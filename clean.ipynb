{
  "cells": [
    {
      "cell_type": "code",
      "execution_count": 10,
      "metadata": {},
      "outputs": [],
      "source": [
        "import os, pandas as pd, re"
      ]
    },
    {
      "cell_type": "code",
      "execution_count": 5,
      "metadata": {},
      "outputs": [
        {
          "name": "stdout",
          "output_type": "stream",
          "text": [
            "📊 CSV: 9707 ảnh\n",
            "📁 Folder: 9707 ảnh\n",
            "🗑️ Thừa: 0 ảnh\n",
            "\n",
            "📝 Sample ảnh thừa:\n"
          ]
        }
      ],
      "source": [
        "\n",
        "\n",
        "df = pd.read_csv('age_gender_labels_only_FINAL_CLEANED.csv')\n",
        "csv_images = set(df['img_name'].values)\n",
        "\n",
        "# Tìm tất cả ảnh và ảnh thừa\n",
        "all_images = [f for f in os.listdir('./data') if f.endswith('.jpg')]\n",
        "extra_images = [img for img in all_images if img not in csv_images]\n",
        "\n",
        "print(f\" CSV: {len(csv_images)} ảnh\")\n",
        "print(f\" Folder: {len(all_images)} ảnh\") \n",
        "print(f\" Thừa: {len(extra_images)} ảnh\")\n",
        "\n",
        "# Hiển thị sample\n",
        "print(\"\\n Sample ảnh thừa:\")\n",
        "for img in extra_images[:5]:\n",
        "    print(f\"   - {img}\")"
      ]
    },
    {
      "cell_type": "code",
      "execution_count": null,
      "metadata": {},
      "outputs": [],
      "source": [
        "\n",
        "DELETE_CONFIRM = False  # Đổi thành True để xóa\n",
        "\n",
        "if DELETE_CONFIRM:\n",
        "    print(f\" Xóa {len(extra_images)} ảnh thừa...\")\n",
        "    for img in extra_images:\n",
        "        os.remove(f\"./data/{img}\")\n",
        "    print(\" Xóa xong!\")\n",
        "    \n",
        "    # Kiểm tra lại\n",
        "    remaining = len(os.listdir('./data'))\n",
        "    print(f\" Còn lại: {remaining} ảnh = {len(csv_images)} CSV rows\")"
      ]
    },
    {
      "cell_type": "code",
      "execution_count": 13,
      "metadata": {},
      "outputs": [
        {
          "name": "stdout",
          "output_type": "stream",
          "text": [
            " 9707 → 9707 rows\n"
          ]
        }
      ],
      "source": [
        "\n",
        "df = pd.read_csv('age_gender_labels_only.csv')\n",
        "files = os.listdir('./data')\n",
        "\n",
        "matches, mapping = [], {}\n",
        "for idx, row in df.iterrows():\n",
        "    timestamp = re.search(r'(\\d{17})', row['img_name'])\n",
        "    if timestamp:\n",
        "        ts = timestamp.group(1)\n",
        "        for file in files:\n",
        "            if ts in file:\n",
        "                matches.append(idx)\n",
        "                mapping[row['img_name']] = file\n",
        "                break\n",
        "\n",
        "# Update filenames and save\n",
        "cleaned_df = df.iloc[matches].copy()\n",
        "for idx in cleaned_df.index:\n",
        "    original = cleaned_df.loc[idx, 'img_name']\n",
        "    if original in mapping:\n",
        "        cleaned_df.loc[idx, 'img_name'] = mapping[original]\n",
        "\n",
        "cleaned_df.to_csv('age_gender_labels_only_FINAL_CLEANED.csv', index=False)\n",
        "print(f\" {len(df)} → {len(cleaned_df)} rows\")\n"
      ]
    }
  ],
  "metadata": {
    "kernelspec": {
      "display_name": "Python 3",
      "language": "python",
      "name": "python3"
    },
    "language_info": {
      "name": "python",
      "version": "3.11.7"
    }
  },
  "nbformat": 4,
  "nbformat_minor": 2
}
